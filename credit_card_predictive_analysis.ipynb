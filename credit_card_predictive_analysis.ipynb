{
  "nbformat": 4,
  "nbformat_minor": 0,
  "metadata": {
    "kernelspec": {
      "display_name": "Python 3",
      "language": "python",
      "name": "python3"
    },
    "language_info": {
      "codemirror_mode": {
        "name": "ipython",
        "version": 3
      },
      "file_extension": ".py",
      "mimetype": "text/x-python",
      "name": "python",
      "nbconvert_exporter": "python",
      "pygments_lexer": "ipython3",
      "version": "3.7.6"
    },
    "papermill": {
      "duration": 55.193378,
      "end_time": "2021-01-19T16:43:43.137737",
      "environment_variables": {},
      "exception": null,
      "input_path": "__notebook__.ipynb",
      "output_path": "__notebook__.ipynb",
      "parameters": {},
      "start_time": "2021-01-19T16:42:47.944359",
      "version": "2.1.0"
    },
    "colab": {
      "name": "credit-card-predictive-analysis.ipynb",
      "provenance": [],
      "toc_visible": true
    }
  },
  "cells": [
    {
      "cell_type": "markdown",
      "metadata": {
        "papermill": {
          "duration": 0.032972,
          "end_time": "2021-01-19T16:42:52.835071",
          "exception": false,
          "start_time": "2021-01-19T16:42:52.802099",
          "status": "completed"
        },
        "tags": [],
        "id": "OCKnT656vvlD"
      },
      "source": [
        "# Credit Card Prediction Analysis\n",
        "\n",
        "---\n",
        "\n"
      ]
    },
    {
      "cell_type": "markdown",
      "metadata": {
        "papermill": {
          "duration": 0.029856,
          "end_time": "2021-01-19T16:42:52.957431",
          "exception": false,
          "start_time": "2021-01-19T16:42:52.927575",
          "status": "completed"
        },
        "tags": [],
        "id": "fhSeHOd-vvlL"
      },
      "source": [
        "# Importing Libraries"
      ]
    },
    {
      "cell_type": "code",
      "metadata": {
        "_cell_guid": "79c7e3d0-c299-4dcb-8224-4455121ee9b0",
        "_uuid": "d629ff2d2480ee46fbb7e2d37f6b5fab8052498a",
        "execution": {
          "iopub.execute_input": "2021-01-19T16:42:53.024108Z",
          "iopub.status.busy": "2021-01-19T16:42:53.023493Z",
          "iopub.status.idle": "2021-01-19T16:42:54.114528Z",
          "shell.execute_reply": "2021-01-19T16:42:54.113303Z"
        },
        "papermill": {
          "duration": 1.126476,
          "end_time": "2021-01-19T16:42:54.114725",
          "exception": false,
          "start_time": "2021-01-19T16:42:52.988249",
          "status": "completed"
        },
        "tags": [],
        "id": "mX9e4f0SvvlM"
      },
      "source": [
        "import numpy as np\n",
        "import pandas as pd\n",
        "import matplotlib.pyplot as plt\n",
        "import seaborn as sns"
      ],
      "execution_count": null,
      "outputs": []
    },
    {
      "cell_type": "markdown",
      "metadata": {
        "papermill": {
          "duration": 0.030862,
          "end_time": "2021-01-19T16:42:54.182300",
          "exception": false,
          "start_time": "2021-01-19T16:42:54.151438",
          "status": "completed"
        },
        "tags": [],
        "id": "CumHEszPvvlN"
      },
      "source": [
        "# Extracting data using two data sources"
      ]
    },
    {
      "cell_type": "code",
      "metadata": {
        "execution": {
          "iopub.execute_input": "2021-01-19T16:42:54.259966Z",
          "iopub.status.busy": "2021-01-19T16:42:54.257810Z",
          "iopub.status.idle": "2021-01-19T16:42:56.725713Z",
          "shell.execute_reply": "2021-01-19T16:42:56.724628Z"
        },
        "papermill": {
          "duration": 2.512214,
          "end_time": "2021-01-19T16:42:56.725896",
          "exception": false,
          "start_time": "2021-01-19T16:42:54.213682",
          "status": "completed"
        },
        "tags": [],
        "id": "um2M9tlUvvlN"
      },
      "source": [
        "app = pd.read_csv(\"application_record.csv\")\n",
        "crecord = pd.read_csv(\"credit_record.csv\")"
      ],
      "execution_count": null,
      "outputs": []
    },
    {
      "cell_type": "markdown",
      "metadata": {
        "papermill": {
          "duration": 0.03108,
          "end_time": "2021-01-19T16:42:56.805012",
          "exception": false,
          "start_time": "2021-01-19T16:42:56.773932",
          "status": "completed"
        },
        "tags": [],
        "id": "7yjqqP3pvvlO"
      },
      "source": [
        "* Using different methods to understand data\n",
        "* data is complex and both dataset need some kind of transformation before analysis\n",
        "* datasets are indivudally dealt with and then eventually compiled using joins"
      ]
    },
    {
      "cell_type": "code",
      "metadata": {
        "execution": {
          "iopub.execute_input": "2021-01-19T16:42:56.878096Z",
          "iopub.status.busy": "2021-01-19T16:42:56.877368Z",
          "iopub.status.idle": "2021-01-19T16:42:57.289764Z",
          "shell.execute_reply": "2021-01-19T16:42:57.288699Z"
        },
        "papermill": {
          "duration": 0.453214,
          "end_time": "2021-01-19T16:42:57.289973",
          "exception": false,
          "start_time": "2021-01-19T16:42:56.836759",
          "status": "completed"
        },
        "tags": [],
        "colab": {
          "base_uri": "https://localhost:8080/"
        },
        "id": "R2iiXU9ovvlO",
        "outputId": "b4a78471-78f3-4053-8eda-d63cc77ad608"
      },
      "source": [
        "app.info()"
      ],
      "execution_count": null,
      "outputs": [
        {
          "output_type": "stream",
          "text": [
            "<class 'pandas.core.frame.DataFrame'>\n",
            "RangeIndex: 438557 entries, 0 to 438556\n",
            "Data columns (total 18 columns):\n",
            " #   Column               Non-Null Count   Dtype  \n",
            "---  ------               --------------   -----  \n",
            " 0   ID                   438557 non-null  int64  \n",
            " 1   CODE_GENDER          438557 non-null  object \n",
            " 2   FLAG_OWN_CAR         438557 non-null  object \n",
            " 3   FLAG_OWN_REALTY      438557 non-null  object \n",
            " 4   CNT_CHILDREN         438557 non-null  int64  \n",
            " 5   AMT_INCOME_TOTAL     438557 non-null  float64\n",
            " 6   NAME_INCOME_TYPE     438557 non-null  object \n",
            " 7   NAME_EDUCATION_TYPE  438557 non-null  object \n",
            " 8   NAME_FAMILY_STATUS   438557 non-null  object \n",
            " 9   NAME_HOUSING_TYPE    438557 non-null  object \n",
            " 10  DAYS_BIRTH           438557 non-null  int64  \n",
            " 11  DAYS_EMPLOYED        438557 non-null  int64  \n",
            " 12  FLAG_MOBIL           438557 non-null  int64  \n",
            " 13  FLAG_WORK_PHONE      438557 non-null  int64  \n",
            " 14  FLAG_PHONE           438557 non-null  int64  \n",
            " 15  FLAG_EMAIL           438557 non-null  int64  \n",
            " 16  OCCUPATION_TYPE      304354 non-null  object \n",
            " 17  CNT_FAM_MEMBERS      438557 non-null  float64\n",
            "dtypes: float64(2), int64(8), object(8)\n",
            "memory usage: 60.2+ MB\n"
          ],
          "name": "stdout"
        }
      ]
    },
    {
      "cell_type": "code",
      "metadata": {
        "execution": {
          "iopub.execute_input": "2021-01-19T16:42:57.472933Z",
          "iopub.status.busy": "2021-01-19T16:42:57.361651Z",
          "iopub.status.idle": "2021-01-19T16:42:57.493787Z",
          "shell.execute_reply": "2021-01-19T16:42:57.493122Z"
        },
        "papermill": {
          "duration": 0.170104,
          "end_time": "2021-01-19T16:42:57.493970",
          "exception": false,
          "start_time": "2021-01-19T16:42:57.323866",
          "status": "completed"
        },
        "tags": [],
        "colab": {
          "base_uri": "https://localhost:8080/"
        },
        "id": "zxW6Ap9IvvlQ",
        "outputId": "6fcc70f3-e23c-4b0f-95d3-0e96f000caa5"
      },
      "source": [
        "crecord.info()"
      ],
      "execution_count": null,
      "outputs": [
        {
          "output_type": "stream",
          "text": [
            "<class 'pandas.core.frame.DataFrame'>\n",
            "RangeIndex: 1048575 entries, 0 to 1048574\n",
            "Data columns (total 3 columns):\n",
            " #   Column          Non-Null Count    Dtype \n",
            "---  ------          --------------    ----- \n",
            " 0   ID              1048575 non-null  int64 \n",
            " 1   MONTHS_BALANCE  1048575 non-null  int64 \n",
            " 2   STATUS          1048575 non-null  object\n",
            "dtypes: int64(2), object(1)\n",
            "memory usage: 24.0+ MB\n"
          ],
          "name": "stdout"
        }
      ]
    },
    {
      "cell_type": "code",
      "metadata": {
        "execution": {
          "iopub.execute_input": "2021-01-19T16:42:57.563185Z",
          "iopub.status.busy": "2021-01-19T16:42:57.562497Z",
          "iopub.status.idle": "2021-01-19T16:42:57.611158Z",
          "shell.execute_reply": "2021-01-19T16:42:57.610571Z"
        },
        "papermill": {
          "duration": 0.085505,
          "end_time": "2021-01-19T16:42:57.611277",
          "exception": false,
          "start_time": "2021-01-19T16:42:57.525772",
          "status": "completed"
        },
        "tags": [],
        "colab": {
          "base_uri": "https://localhost:8080/"
        },
        "id": "Nxg8Wb-7vvlQ",
        "outputId": "ca953a00-b9fb-4e99-a721-3033082f9f75"
      },
      "source": [
        "app['ID'].nunique() # the total rows are 438,557. This means it has duplicates"
      ],
      "execution_count": null,
      "outputs": [
        {
          "output_type": "execute_result",
          "data": {
            "text/plain": [
              "438510"
            ]
          },
          "metadata": {
            "tags": []
          },
          "execution_count": 10
        }
      ]
    },
    {
      "cell_type": "code",
      "metadata": {
        "execution": {
          "iopub.execute_input": "2021-01-19T16:42:57.683404Z",
          "iopub.status.busy": "2021-01-19T16:42:57.682433Z",
          "iopub.status.idle": "2021-01-19T16:42:57.697180Z",
          "shell.execute_reply": "2021-01-19T16:42:57.696524Z"
        },
        "papermill": {
          "duration": 0.052941,
          "end_time": "2021-01-19T16:42:57.697294",
          "exception": false,
          "start_time": "2021-01-19T16:42:57.644353",
          "status": "completed"
        },
        "tags": [],
        "colab": {
          "base_uri": "https://localhost:8080/"
        },
        "id": "QeVzrNtrvvlR",
        "outputId": "5b9199b1-b96b-4dea-c54b-c708d134735f"
      },
      "source": [
        "crecord['ID'].nunique() \n",
        "# this has around 43,000 unique rows as there are repeating entries for different monthly values and status."
      ],
      "execution_count": null,
      "outputs": [
        {
          "output_type": "execute_result",
          "data": {
            "text/plain": [
              "45985"
            ]
          },
          "metadata": {
            "tags": []
          },
          "execution_count": 11
        }
      ]
    },
    {
      "cell_type": "code",
      "metadata": {
        "execution": {
          "iopub.execute_input": "2021-01-19T16:42:58.084484Z",
          "iopub.status.busy": "2021-01-19T16:42:58.082797Z",
          "iopub.status.idle": "2021-01-19T16:42:58.089315Z",
          "shell.execute_reply": "2021-01-19T16:42:58.088790Z"
        },
        "papermill": {
          "duration": 0.357741,
          "end_time": "2021-01-19T16:42:58.089427",
          "exception": false,
          "start_time": "2021-01-19T16:42:57.731686",
          "status": "completed"
        },
        "tags": [],
        "colab": {
          "base_uri": "https://localhost:8080/"
        },
        "id": "-OpbNx0MvvlR",
        "outputId": "423b0850-c00c-446a-d0b5-b5d975e0055f"
      },
      "source": [
        "len(set(crecord['ID']).intersection(set(app['ID']))) # checking to see how many records match in two datasets"
      ],
      "execution_count": null,
      "outputs": [
        {
          "output_type": "execute_result",
          "data": {
            "text/plain": [
              "36457"
            ]
          },
          "metadata": {
            "tags": []
          },
          "execution_count": 12
        }
      ]
    },
    {
      "cell_type": "code",
      "metadata": {
        "execution": {
          "iopub.execute_input": "2021-01-19T16:42:58.165103Z",
          "iopub.status.busy": "2021-01-19T16:42:58.164419Z",
          "iopub.status.idle": "2021-01-19T16:43:04.939157Z",
          "shell.execute_reply": "2021-01-19T16:43:04.939672Z"
        },
        "papermill": {
          "duration": 6.815449,
          "end_time": "2021-01-19T16:43:04.939809",
          "exception": false,
          "start_time": "2021-01-19T16:42:58.124360",
          "status": "completed"
        },
        "tags": [],
        "colab": {
          "base_uri": "https://localhost:8080/",
          "height": 397
        },
        "id": "m6vQtusQvvlS",
        "outputId": "032671d0-c784-4f8b-84ac-ec3bfaa8854c"
      },
      "source": [
        "sns.heatmap(app.isnull()) # checking for null values. Seems like occupation_type has many"
      ],
      "execution_count": null,
      "outputs": [
        {
          "output_type": "execute_result",
          "data": {
            "text/plain": [
              "<matplotlib.axes._subplots.AxesSubplot at 0x7ff3f263a850>"
            ]
          },
          "metadata": {
            "tags": []
          },
          "execution_count": 13
        },
        {
          "output_type": "display_data",
          "data": {
            "image/png": "[encoded data removed]",
            "text/plain": [
              "<Figure size 432x288 with 2 Axes>"
            ]
          },
          "metadata": {
            "tags": [],
            "needs_background": "light"
          }
        }
      ]
    },
    {
      "cell_type": "code",
      "metadata": {
        "execution": {
          "iopub.execute_input": "2021-01-19T16:43:05.013310Z",
          "iopub.status.busy": "2021-01-19T16:43:05.012627Z",
          "iopub.status.idle": "2021-01-19T16:43:07.903969Z",
          "shell.execute_reply": "2021-01-19T16:43:07.903423Z"
        },
        "papermill": {
          "duration": 2.929487,
          "end_time": "2021-01-19T16:43:07.904087",
          "exception": false,
          "start_time": "2021-01-19T16:43:04.974600",
          "status": "completed"
        },
        "tags": [],
        "colab": {
          "base_uri": "https://localhost:8080/",
          "height": 286
        },
        "id": "ERdXtD7_vvlS",
        "outputId": "ca80c59c-cb58-4c39-c8cc-580bed7a155c"
      },
      "source": [
        "sns.heatmap(crecord.isnull()) # checking for null values. All good here!"
      ],
      "execution_count": null,
      "outputs": [
        {
          "output_type": "execute_result",
          "data": {
            "text/plain": [
              "<matplotlib.axes._subplots.AxesSubplot at 0x7ff3f1720c10>"
            ]
          },
          "metadata": {
            "tags": []
          },
          "execution_count": 14
        },
        {
          "output_type": "display_data",
          "data": {
            "image/png": "[encoded data removed]",
            "text/plain": [
              "<Figure size 432x288 with 2 Axes>"
            ]
          },
          "metadata": {
            "tags": [],
            "needs_background": "light"
          }
        }
      ]
    },
    {
      "cell_type": "code",
      "metadata": {
        "execution": {
          "iopub.execute_input": "2021-01-19T16:43:07.983358Z",
          "iopub.status.busy": "2021-01-19T16:43:07.982655Z",
          "iopub.status.idle": "2021-01-19T16:43:08.087872Z",
          "shell.execute_reply": "2021-01-19T16:43:08.087207Z"
        },
        "papermill": {
          "duration": 0.147132,
          "end_time": "2021-01-19T16:43:08.087985",
          "exception": false,
          "start_time": "2021-01-19T16:43:07.940853",
          "status": "completed"
        },
        "tags": [],
        "id": "_jNrkNWHvvlT"
      },
      "source": [
        "app = app.drop_duplicates('ID', keep='last') "
      ],
      "execution_count": null,
      "outputs": []
    },
    {
      "cell_type": "code",
      "metadata": {
        "execution": {
          "iopub.execute_input": "2021-01-19T16:43:08.178490Z",
          "iopub.status.busy": "2021-01-19T16:43:08.177405Z",
          "iopub.status.idle": "2021-01-19T16:43:08.216838Z",
          "shell.execute_reply": "2021-01-19T16:43:08.216245Z"
        },
        "papermill": {
          "duration": 0.092368,
          "end_time": "2021-01-19T16:43:08.216955",
          "exception": false,
          "start_time": "2021-01-19T16:43:08.124587",
          "status": "completed"
        },
        "tags": [],
        "id": "YxHRltkGvvlT"
      },
      "source": [
        "app.drop('OCCUPATION_TYPE', axis=1, inplace=True) "
      ],
      "execution_count": null,
      "outputs": []
    },
    {
      "cell_type": "code",
      "metadata": {
        "execution": {
          "iopub.execute_input": "2021-01-19T16:43:08.309223Z",
          "iopub.status.busy": "2021-01-19T16:43:08.308305Z",
          "iopub.status.idle": "2021-01-19T16:43:08.334169Z",
          "shell.execute_reply": "2021-01-19T16:43:08.333515Z"
        },
        "papermill": {
          "duration": 0.080352,
          "end_time": "2021-01-19T16:43:08.334280",
          "exception": false,
          "start_time": "2021-01-19T16:43:08.253928",
          "status": "completed"
        },
        "tags": [],
        "colab": {
          "base_uri": "https://localhost:8080/"
        },
        "id": "t5M9NhXuvvlT",
        "outputId": "219661b9-83af-4677-e807-a721aa144a84"
      },
      "source": [
        "ot = pd.DataFrame(app.dtypes =='object').reset_index()\n",
        "object_type = ot[ot[0] == True]['index']\n",
        "object_type\n",
        "#we are filtering the columns that have non numeric values to see if they are useful"
      ],
      "execution_count": null,
      "outputs": [
        {
          "output_type": "execute_result",
          "data": {
            "text/plain": [
              "1            CODE_GENDER\n",
              "2           FLAG_OWN_CAR\n",
              "3        FLAG_OWN_REALTY\n",
              "6       NAME_INCOME_TYPE\n",
              "7    NAME_EDUCATION_TYPE\n",
              "8     NAME_FAMILY_STATUS\n",
              "9      NAME_HOUSING_TYPE\n",
              "Name: index, dtype: object"
            ]
          },
          "metadata": {
            "tags": []
          },
          "execution_count": 17
        }
      ]
    },
    {
      "cell_type": "code",
      "metadata": {
        "execution": {
          "iopub.execute_input": "2021-01-19T16:43:08.419224Z",
          "iopub.status.busy": "2021-01-19T16:43:08.418239Z",
          "iopub.status.idle": "2021-01-19T16:43:08.421491Z",
          "shell.execute_reply": "2021-01-19T16:43:08.420966Z"
        },
        "papermill": {
          "duration": 0.049905,
          "end_time": "2021-01-19T16:43:08.421609",
          "exception": false,
          "start_time": "2021-01-19T16:43:08.371704",
          "status": "completed"
        },
        "tags": [],
        "id": "a-HDoOkHvvlU"
      },
      "source": [
        "num_type = pd.DataFrame(app.dtypes != 'object').reset_index().rename(columns =  {0:'yes/no'})\n",
        "num_type = num_type[num_type['yes/no'] ==True]['index']\n",
        "#HAVE CREATED SEPARATE LIST FOR NUMERIC TYPE INCASE IT WILL BE NEEDED IN FURTHER ANALYSIS\n",
        "# IT IS NEEDED IN FURTHER ANALYSIS"
      ],
      "execution_count": null,
      "outputs": []
    },
    {
      "cell_type": "code",
      "metadata": {
        "execution": {
          "iopub.execute_input": "2021-01-19T16:43:08.506684Z",
          "iopub.status.busy": "2021-01-19T16:43:08.505954Z",
          "iopub.status.idle": "2021-01-19T16:43:09.434727Z",
          "shell.execute_reply": "2021-01-19T16:43:09.434040Z"
        },
        "papermill": {
          "duration": 0.975406,
          "end_time": "2021-01-19T16:43:09.434852",
          "exception": false,
          "start_time": "2021-01-19T16:43:08.459446",
          "status": "completed"
        },
        "tags": [],
        "colab": {
          "base_uri": "https://localhost:8080/"
        },
        "id": "1U-g5tkivvlU",
        "outputId": "6f7153f5-0082-48a4-8502-a08cc024cea5"
      },
      "source": [
        "a = app[object_type]['CODE_GENDER'].value_counts()\n",
        "b = app[object_type]['FLAG_OWN_CAR'].value_counts()\n",
        "c = app[object_type]['FLAG_OWN_REALTY'].value_counts()\n",
        "d = app[object_type]['NAME_INCOME_TYPE'].value_counts()\n",
        "e = app[object_type]['NAME_EDUCATION_TYPE'].value_counts()\n",
        "f = app[object_type]['NAME_FAMILY_STATUS'].value_counts()\n",
        "g = app[object_type]['NAME_HOUSING_TYPE'].value_counts()\n",
        "\n",
        "print( a,\"\\n\",b,'\\n', c, '\\n', d, '\\n', e, '\\n', f, '\\n', g)\n",
        "\n",
        "#this is just to see what each column is. \n",
        "#It seems that all of them are important since there is very fine classifcation in each column.\n",
        "# their effectiveness cannot be judged at this moment so we convert all of them to numeric values."
      ],
      "execution_count": null,
      "outputs": [
        {
          "output_type": "stream",
          "text": [
            "F    294412\n",
            "M    144098\n",
            "Name: CODE_GENDER, dtype: int64 \n",
            " N    275428\n",
            "Y    163082\n",
            "Name: FLAG_OWN_CAR, dtype: int64 \n",
            " Y    304043\n",
            "N    134467\n",
            "Name: FLAG_OWN_REALTY, dtype: int64 \n",
            " Working                 226087\n",
            "Commercial associate    100739\n",
            "Pensioner                75483\n",
            "State servant            36184\n",
            "Student                     17\n",
            "Name: NAME_INCOME_TYPE, dtype: int64 \n",
            " Secondary / secondary special    301789\n",
            "Higher education                 117509\n",
            "Incomplete higher                 14849\n",
            "Lower secondary                    4051\n",
            "Academic degree                     312\n",
            "Name: NAME_EDUCATION_TYPE, dtype: int64 \n",
            " Married                 299798\n",
            "Single / not married     55268\n",
            "Civil marriage           36524\n",
            "Separated                27249\n",
            "Widow                    19671\n",
            "Name: NAME_FAMILY_STATUS, dtype: int64 \n",
            " House / apartment      393788\n",
            "With parents            19074\n",
            "Municipal apartment     14213\n",
            "Rented apartment         5974\n",
            "Office apartment         3922\n",
            "Co-op apartment          1539\n",
            "Name: NAME_HOUSING_TYPE, dtype: int64\n"
          ],
          "name": "stdout"
        }
      ]
    },
    {
      "cell_type": "code",
      "metadata": {
        "execution": {
          "iopub.execute_input": "2021-01-19T16:43:09.517584Z",
          "iopub.status.busy": "2021-01-19T16:43:09.516756Z",
          "iopub.status.idle": "2021-01-19T16:43:10.681717Z",
          "shell.execute_reply": "2021-01-19T16:43:10.681117Z"
        },
        "papermill": {
          "duration": 1.208991,
          "end_time": "2021-01-19T16:43:10.681829",
          "exception": false,
          "start_time": "2021-01-19T16:43:09.472838",
          "status": "completed"
        },
        "tags": [],
        "id": "aHWZkFYfvvlU"
      },
      "source": [
        "from sklearn.preprocessing import LabelEncoder\n",
        "le = LabelEncoder()\n",
        "for x in app:\n",
        "    if app[x].dtypes=='object':\n",
        "        app[x] = le.fit_transform(app[x])\n",
        "# we have transformed all the non numeric data columns into data columns\n",
        "# this method applies 0,1.. classification to different value types."
      ],
      "execution_count": null,
      "outputs": []
    },
    {
      "cell_type": "code",
      "metadata": {
        "execution": {
          "iopub.execute_input": "2021-01-19T16:43:10.770248Z",
          "iopub.status.busy": "2021-01-19T16:43:10.768662Z",
          "iopub.status.idle": "2021-01-19T16:43:10.785484Z",
          "shell.execute_reply": "2021-01-19T16:43:10.784875Z"
        },
        "papermill": {
          "duration": 0.065592,
          "end_time": "2021-01-19T16:43:10.785610",
          "exception": false,
          "start_time": "2021-01-19T16:43:10.720018",
          "status": "completed"
        },
        "tags": [],
        "colab": {
          "base_uri": "https://localhost:8080/",
          "height": 371
        },
        "id": "LQCavyocvvlV",
        "outputId": "2197f01d-5e88-4433-f517-6e2fad589110"
      },
      "source": [
        "app.head(10)"
      ],
      "execution_count": null,
      "outputs": [
        {
          "output_type": "execute_result",
          "data": {
            "text/html": [
              "<div>\n",
              "<style scoped>\n",
              "    .dataframe tbody tr th:only-of-type {\n",
              "        vertical-align: middle;\n",
              "    }\n",
              "\n",
              "    .dataframe tbody tr th {\n",
              "        vertical-align: top;\n",
              "    }\n",
              "\n",
              "    .dataframe thead th {\n",
              "        text-align: right;\n",
              "    }\n",
              "</style>\n",
              "<table border=\"1\" class=\"dataframe\">\n",
              "  <thead>\n",
              "    <tr style=\"text-align: right;\">\n",
              "      <th></th>\n",
              "      <th>ID</th>\n",
              "      <th>CODE_GENDER</th>\n",
              "      <th>FLAG_OWN_CAR</th>\n",
              "      <th>FLAG_OWN_REALTY</th>\n",
              "      <th>CNT_CHILDREN</th>\n",
              "      <th>AMT_INCOME_TOTAL</th>\n",
              "      <th>NAME_INCOME_TYPE</th>\n",
              "      <th>NAME_EDUCATION_TYPE</th>\n",
              "      <th>NAME_FAMILY_STATUS</th>\n",
              "      <th>NAME_HOUSING_TYPE</th>\n",
              "      <th>DAYS_BIRTH</th>\n",
              "      <th>DAYS_EMPLOYED</th>\n",
              "      <th>FLAG_MOBIL</th>\n",
              "      <th>FLAG_WORK_PHONE</th>\n",
              "      <th>FLAG_PHONE</th>\n",
              "      <th>FLAG_EMAIL</th>\n",
              "      <th>CNT_FAM_MEMBERS</th>\n",
              "    </tr>\n",
              "  </thead>\n",
              "  <tbody>\n",
              "    <tr>\n",
              "      <th>0</th>\n",
              "      <td>5008804</td>\n",
              "      <td>1</td>\n",
              "      <td>1</td>\n",
              "      <td>1</td>\n",
              "      <td>0</td>\n",
              "      <td>427500.0</td>\n",
              "      <td>4</td>\n",
              "      <td>1</td>\n",
              "      <td>0</td>\n",
              "      <td>4</td>\n",
              "      <td>-12005</td>\n",
              "      <td>-4542</td>\n",
              "      <td>1</td>\n",
              "      <td>1</td>\n",
              "      <td>0</td>\n",
              "      <td>0</td>\n",
              "      <td>2.0</td>\n",
              "    </tr>\n",
              "    <tr>\n",
              "      <th>1</th>\n",
              "      <td>5008805</td>\n",
              "      <td>1</td>\n",
              "      <td>1</td>\n",
              "      <td>1</td>\n",
              "      <td>0</td>\n",
              "      <td>427500.0</td>\n",
              "      <td>4</td>\n",
              "      <td>1</td>\n",
              "      <td>0</td>\n",
              "      <td>4</td>\n",
              "      <td>-12005</td>\n",
              "      <td>-4542</td>\n",
              "      <td>1</td>\n",
              "      <td>1</td>\n",
              "      <td>0</td>\n",
              "      <td>0</td>\n",
              "      <td>2.0</td>\n",
              "    </tr>\n",
              "    <tr>\n",
              "      <th>2</th>\n",
              "      <td>5008806</td>\n",
              "      <td>1</td>\n",
              "      <td>1</td>\n",
              "      <td>1</td>\n",
              "      <td>0</td>\n",
              "      <td>112500.0</td>\n",
              "      <td>4</td>\n",
              "      <td>4</td>\n",
              "      <td>1</td>\n",
              "      <td>1</td>\n",
              "      <td>-21474</td>\n",
              "      <td>-1134</td>\n",
              "      <td>1</td>\n",
              "      <td>0</td>\n",
              "      <td>0</td>\n",
              "      <td>0</td>\n",
              "      <td>2.0</td>\n",
              "    </tr>\n",
              "    <tr>\n",
              "      <th>3</th>\n",
              "      <td>5008808</td>\n",
              "      <td>0</td>\n",
              "      <td>0</td>\n",
              "      <td>1</td>\n",
              "      <td>0</td>\n",
              "      <td>270000.0</td>\n",
              "      <td>0</td>\n",
              "      <td>4</td>\n",
              "      <td>3</td>\n",
              "      <td>1</td>\n",
              "      <td>-19110</td>\n",
              "      <td>-3051</td>\n",
              "      <td>1</td>\n",
              "      <td>0</td>\n",
              "      <td>1</td>\n",
              "      <td>1</td>\n",
              "      <td>1.0</td>\n",
              "    </tr>\n",
              "    <tr>\n",
              "      <th>4</th>\n",
              "      <td>5008809</td>\n",
              "      <td>0</td>\n",
              "      <td>0</td>\n",
              "      <td>1</td>\n",
              "      <td>0</td>\n",
              "      <td>270000.0</td>\n",
              "      <td>0</td>\n",
              "      <td>4</td>\n",
              "      <td>3</td>\n",
              "      <td>1</td>\n",
              "      <td>-19110</td>\n",
              "      <td>-3051</td>\n",
              "      <td>1</td>\n",
              "      <td>0</td>\n",
              "      <td>1</td>\n",
              "      <td>1</td>\n",
              "      <td>1.0</td>\n",
              "    </tr>\n",
              "    <tr>\n",
              "      <th>5</th>\n",
              "      <td>5008810</td>\n",
              "      <td>0</td>\n",
              "      <td>0</td>\n",
              "      <td>1</td>\n",
              "      <td>0</td>\n",
              "      <td>270000.0</td>\n",
              "      <td>0</td>\n",
              "      <td>4</td>\n",
              "      <td>3</td>\n",
              "      <td>1</td>\n",
              "      <td>-19110</td>\n",
              "      <td>-3051</td>\n",
              "      <td>1</td>\n",
              "      <td>0</td>\n",
              "      <td>1</td>\n",
              "      <td>1</td>\n",
              "      <td>1.0</td>\n",
              "    </tr>\n",
              "    <tr>\n",
              "      <th>6</th>\n",
              "      <td>5008811</td>\n",
              "      <td>0</td>\n",
              "      <td>0</td>\n",
              "      <td>1</td>\n",
              "      <td>0</td>\n",
              "      <td>270000.0</td>\n",
              "      <td>0</td>\n",
              "      <td>4</td>\n",
              "      <td>3</td>\n",
              "      <td>1</td>\n",
              "      <td>-19110</td>\n",
              "      <td>-3051</td>\n",
              "      <td>1</td>\n",
              "      <td>0</td>\n",
              "      <td>1</td>\n",
              "      <td>1</td>\n",
              "      <td>1.0</td>\n",
              "    </tr>\n",
              "    <tr>\n",
              "      <th>7</th>\n",
              "      <td>5008812</td>\n",
              "      <td>0</td>\n",
              "      <td>0</td>\n",
              "      <td>1</td>\n",
              "      <td>0</td>\n",
              "      <td>283500.0</td>\n",
              "      <td>1</td>\n",
              "      <td>1</td>\n",
              "      <td>2</td>\n",
              "      <td>1</td>\n",
              "      <td>-22464</td>\n",
              "      <td>365243</td>\n",
              "      <td>1</td>\n",
              "      <td>0</td>\n",
              "      <td>0</td>\n",
              "      <td>0</td>\n",
              "      <td>1.0</td>\n",
              "    </tr>\n",
              "    <tr>\n",
              "      <th>8</th>\n",
              "      <td>5008813</td>\n",
              "      <td>0</td>\n",
              "      <td>0</td>\n",
              "      <td>1</td>\n",
              "      <td>0</td>\n",
              "      <td>283500.0</td>\n",
              "      <td>1</td>\n",
              "      <td>1</td>\n",
              "      <td>2</td>\n",
              "      <td>1</td>\n",
              "      <td>-22464</td>\n",
              "      <td>365243</td>\n",
              "      <td>1</td>\n",
              "      <td>0</td>\n",
              "      <td>0</td>\n",
              "      <td>0</td>\n",
              "      <td>1.0</td>\n",
              "    </tr>\n",
              "    <tr>\n",
              "      <th>9</th>\n",
              "      <td>5008814</td>\n",
              "      <td>0</td>\n",
              "      <td>0</td>\n",
              "      <td>1</td>\n",
              "      <td>0</td>\n",
              "      <td>283500.0</td>\n",
              "      <td>1</td>\n",
              "      <td>1</td>\n",
              "      <td>2</td>\n",
              "      <td>1</td>\n",
              "      <td>-22464</td>\n",
              "      <td>365243</td>\n",
              "      <td>1</td>\n",
              "      <td>0</td>\n",
              "      <td>0</td>\n",
              "      <td>0</td>\n",
              "      <td>1.0</td>\n",
              "    </tr>\n",
              "  </tbody>\n",
              "</table>\n",
              "</div>"
            ],
            "text/plain": [
              "        ID  CODE_GENDER  FLAG_OWN_CAR  ...  FLAG_PHONE  FLAG_EMAIL  CNT_FAM_MEMBERS\n",
              "0  5008804            1             1  ...           0           0              2.0\n",
              "1  5008805            1             1  ...           0           0              2.0\n",
              "2  5008806            1             1  ...           0           0              2.0\n",
              "3  5008808            0             0  ...           1           1              1.0\n",
              "4  5008809            0             0  ...           1           1              1.0\n",
              "5  5008810            0             0  ...           1           1              1.0\n",
              "6  5008811            0             0  ...           1           1              1.0\n",
              "7  5008812            0             0  ...           0           0              1.0\n",
              "8  5008813            0             0  ...           0           0              1.0\n",
              "9  5008814            0             0  ...           0           0              1.0\n",
              "\n",
              "[10 rows x 17 columns]"
            ]
          },
          "metadata": {
            "tags": []
          },
          "execution_count": 21
        }
      ]
    },
    {
      "cell_type": "code",
      "metadata": {
        "execution": {
          "iopub.execute_input": "2021-01-19T16:43:10.869183Z",
          "iopub.status.busy": "2021-01-19T16:43:10.868566Z",
          "iopub.status.idle": "2021-01-19T16:43:10.937721Z",
          "shell.execute_reply": "2021-01-19T16:43:10.937050Z"
        },
        "papermill": {
          "duration": 0.113631,
          "end_time": "2021-01-19T16:43:10.937841",
          "exception": false,
          "start_time": "2021-01-19T16:43:10.824210",
          "status": "completed"
        },
        "tags": [],
        "colab": {
          "base_uri": "https://localhost:8080/",
          "height": 200
        },
        "id": "exd7lM0AvvlV",
        "outputId": "2c4c5630-5bd7-4768-fe05-32252a90933d"
      },
      "source": [
        "app[num_type].head()\n",
        "# We will look at numeric columns and see if there is anything that needs to be changed. "
      ],
      "execution_count": null,
      "outputs": [
        {
          "output_type": "execute_result",
          "data": {
            "text/html": [
              "<div>\n",
              "<style scoped>\n",
              "    .dataframe tbody tr th:only-of-type {\n",
              "        vertical-align: middle;\n",
              "    }\n",
              "\n",
              "    .dataframe tbody tr th {\n",
              "        vertical-align: top;\n",
              "    }\n",
              "\n",
              "    .dataframe thead th {\n",
              "        text-align: right;\n",
              "    }\n",
              "</style>\n",
              "<table border=\"1\" class=\"dataframe\">\n",
              "  <thead>\n",
              "    <tr style=\"text-align: right;\">\n",
              "      <th></th>\n",
              "      <th>ID</th>\n",
              "      <th>CNT_CHILDREN</th>\n",
              "      <th>AMT_INCOME_TOTAL</th>\n",
              "      <th>DAYS_BIRTH</th>\n",
              "      <th>DAYS_EMPLOYED</th>\n",
              "      <th>FLAG_MOBIL</th>\n",
              "      <th>FLAG_WORK_PHONE</th>\n",
              "      <th>FLAG_PHONE</th>\n",
              "      <th>FLAG_EMAIL</th>\n",
              "      <th>CNT_FAM_MEMBERS</th>\n",
              "    </tr>\n",
              "  </thead>\n",
              "  <tbody>\n",
              "    <tr>\n",
              "      <th>0</th>\n",
              "      <td>5008804</td>\n",
              "      <td>0</td>\n",
              "      <td>427500.0</td>\n",
              "      <td>-12005</td>\n",
              "      <td>-4542</td>\n",
              "      <td>1</td>\n",
              "      <td>1</td>\n",
              "      <td>0</td>\n",
              "      <td>0</td>\n",
              "      <td>2.0</td>\n",
              "    </tr>\n",
              "    <tr>\n",
              "      <th>1</th>\n",
              "      <td>5008805</td>\n",
              "      <td>0</td>\n",
              "      <td>427500.0</td>\n",
              "      <td>-12005</td>\n",
              "      <td>-4542</td>\n",
              "      <td>1</td>\n",
              "      <td>1</td>\n",
              "      <td>0</td>\n",
              "      <td>0</td>\n",
              "      <td>2.0</td>\n",
              "    </tr>\n",
              "    <tr>\n",
              "      <th>2</th>\n",
              "      <td>5008806</td>\n",
              "      <td>0</td>\n",
              "      <td>112500.0</td>\n",
              "      <td>-21474</td>\n",
              "      <td>-1134</td>\n",
              "      <td>1</td>\n",
              "      <td>0</td>\n",
              "      <td>0</td>\n",
              "      <td>0</td>\n",
              "      <td>2.0</td>\n",
              "    </tr>\n",
              "    <tr>\n",
              "      <th>3</th>\n",
              "      <td>5008808</td>\n",
              "      <td>0</td>\n",
              "      <td>270000.0</td>\n",
              "      <td>-19110</td>\n",
              "      <td>-3051</td>\n",
              "      <td>1</td>\n",
              "      <td>0</td>\n",
              "      <td>1</td>\n",
              "      <td>1</td>\n",
              "      <td>1.0</td>\n",
              "    </tr>\n",
              "    <tr>\n",
              "      <th>4</th>\n",
              "      <td>5008809</td>\n",
              "      <td>0</td>\n",
              "      <td>270000.0</td>\n",
              "      <td>-19110</td>\n",
              "      <td>-3051</td>\n",
              "      <td>1</td>\n",
              "      <td>0</td>\n",
              "      <td>1</td>\n",
              "      <td>1</td>\n",
              "      <td>1.0</td>\n",
              "    </tr>\n",
              "  </tbody>\n",
              "</table>\n",
              "</div>"
            ],
            "text/plain": [
              "        ID  CNT_CHILDREN  ...  FLAG_EMAIL  CNT_FAM_MEMBERS\n",
              "0  5008804             0  ...           0              2.0\n",
              "1  5008805             0  ...           0              2.0\n",
              "2  5008806             0  ...           0              2.0\n",
              "3  5008808             0  ...           1              1.0\n",
              "4  5008809             0  ...           1              1.0\n",
              "\n",
              "[5 rows x 10 columns]"
            ]
          },
          "metadata": {
            "tags": []
          },
          "execution_count": 22
        }
      ]
    },
    {
      "cell_type": "code",
      "metadata": {
        "execution": {
          "iopub.execute_input": "2021-01-19T16:43:11.032621Z",
          "iopub.status.busy": "2021-01-19T16:43:11.031918Z",
          "iopub.status.idle": "2021-01-19T16:43:20.858744Z",
          "shell.execute_reply": "2021-01-19T16:43:20.858215Z"
        },
        "papermill": {
          "duration": 9.881029,
          "end_time": "2021-01-19T16:43:20.858883",
          "exception": false,
          "start_time": "2021-01-19T16:43:10.977854",
          "status": "completed"
        },
        "tags": [],
        "colab": {
          "base_uri": "https://localhost:8080/",
          "height": 415
        },
        "id": "IR7kHLQ9vvlV",
        "outputId": "07db1ba7-f9f4-41d3-802d-b28dab4c7390"
      },
      "source": [
        "fig, ax= plt.subplots(nrows= 3, ncols = 3, figsize= (14,6))\n",
        "\n",
        "sns.scatterplot(x='ID', y='CNT_CHILDREN', data=app, ax=ax[0][0], color= 'orange')\n",
        "sns.scatterplot(x='ID', y='AMT_INCOME_TOTAL', data=app, ax=ax[0][1], color='orange')\n",
        "sns.scatterplot(x='ID', y='DAYS_BIRTH', data=app, ax=ax[0][2])\n",
        "sns.scatterplot(x='ID', y='DAYS_EMPLOYED', data=app, ax=ax[1][0])\n",
        "sns.scatterplot(x='ID', y='FLAG_MOBIL', data=app, ax=ax[1][1])\n",
        "sns.scatterplot(x='ID', y='FLAG_WORK_PHONE', data=app, ax=ax[1][2])\n",
        "sns.scatterplot(x='ID', y='FLAG_PHONE', data=app, ax=ax[2][0])\n",
        "sns.scatterplot(x='ID', y='FLAG_EMAIL', data=app, ax=ax[2][1])\n",
        "sns.scatterplot(x='ID', y='CNT_FAM_MEMBERS', data=app, ax=ax[2][2], color= 'orange')"
      ],
      "execution_count": null,
      "outputs": [
        {
          "output_type": "execute_result",
          "data": {
            "text/plain": [
              "<matplotlib.axes._subplots.AxesSubplot at 0x7ff3f1b44310>"
            ]
          },
          "metadata": {
            "tags": []
          },
          "execution_count": 23
        },
        {
          "output_type": "display_data",
          "data": {
            "image/png": "[encoded data removed]",
            "text/plain": [
              "<Figure size 1008x432 with 9 Axes>"
            ]
          },
          "metadata": {
            "tags": [],
            "needs_background": "light"
          }
        }
      ]
    },
    {
      "cell_type": "markdown",
      "metadata": {
        "papermill": {
          "duration": 0.043149,
          "end_time": "2021-01-19T16:43:20.946500",
          "exception": false,
          "start_time": "2021-01-19T16:43:20.903351",
          "status": "completed"
        },
        "tags": [],
        "id": "98NZAcLYvvlW"
      },
      "source": [
        "There are outliers in 3 columns.\n",
        "1. CNT_CHILDREN\n",
        "2. AMT_INCOME_TOTAL\n",
        "3. CNT_FAM_MEMBERS"
      ]
    },
    {
      "cell_type": "code",
      "metadata": {
        "execution": {
          "iopub.execute_input": "2021-01-19T16:43:21.127705Z",
          "iopub.status.busy": "2021-01-19T16:43:21.126996Z",
          "iopub.status.idle": "2021-01-19T16:43:21.156769Z",
          "shell.execute_reply": "2021-01-19T16:43:21.155214Z"
        },
        "papermill": {
          "duration": 0.079212,
          "end_time": "2021-01-19T16:43:21.156890",
          "exception": false,
          "start_time": "2021-01-19T16:43:21.077678",
          "status": "completed"
        },
        "tags": [],
        "id": "5VTl0dfTvvlW"
      },
      "source": [
        "# FOR CNT_CHILDREN COLUMN\n",
        "q_hi = app['CNT_CHILDREN'].quantile(0.999)\n",
        "q_low = app['CNT_CHILDREN'].quantile(0.001)\n",
        "app = app[(app['CNT_CHILDREN']>q_low) & (app['CNT_CHILDREN']<q_hi)]"
      ],
      "execution_count": null,
      "outputs": []
    },
    {
      "cell_type": "code",
      "metadata": {
        "execution": {
          "iopub.execute_input": "2021-01-19T16:43:21.251719Z",
          "iopub.status.busy": "2021-01-19T16:43:21.250724Z",
          "iopub.status.idle": "2021-01-19T16:43:21.265207Z",
          "shell.execute_reply": "2021-01-19T16:43:21.265749Z"
        },
        "papermill": {
          "duration": 0.065314,
          "end_time": "2021-01-19T16:43:21.265892",
          "exception": false,
          "start_time": "2021-01-19T16:43:21.200578",
          "status": "completed"
        },
        "tags": [],
        "id": "6eie5Vt0vvlW"
      },
      "source": [
        "# FOR AMT_INCOME_TOTAL COLUMN\n",
        "q_hi = app['AMT_INCOME_TOTAL'].quantile(0.999)\n",
        "q_low = app['AMT_INCOME_TOTAL'].quantile(0.001)\n",
        "app= app[(app['AMT_INCOME_TOTAL']>q_low) & (app['AMT_INCOME_TOTAL']<q_hi)]"
      ],
      "execution_count": null,
      "outputs": []
    },
    {
      "cell_type": "code",
      "metadata": {
        "execution": {
          "iopub.execute_input": "2021-01-19T16:43:21.357490Z",
          "iopub.status.busy": "2021-01-19T16:43:21.356505Z",
          "iopub.status.idle": "2021-01-19T16:43:21.373958Z",
          "shell.execute_reply": "2021-01-19T16:43:21.374557Z"
        },
        "papermill": {
          "duration": 0.064977,
          "end_time": "2021-01-19T16:43:21.374706",
          "exception": false,
          "start_time": "2021-01-19T16:43:21.309729",
          "status": "completed"
        },
        "tags": [],
        "id": "8O3eOjRTvvlW"
      },
      "source": [
        "#FOR CNT_FAM_MEMBERS COLUMN\n",
        "q_hi = app['CNT_FAM_MEMBERS'].quantile(0.999)\n",
        "q_low = app['CNT_FAM_MEMBERS'].quantile(0.001)\n",
        "app= app[(app['CNT_FAM_MEMBERS']>q_low) & (app['CNT_FAM_MEMBERS']<q_hi)]"
      ],
      "execution_count": null,
      "outputs": []
    },
    {
      "cell_type": "code",
      "metadata": {
        "execution": {
          "iopub.execute_input": "2021-01-19T16:43:21.467252Z",
          "iopub.status.busy": "2021-01-19T16:43:21.466253Z",
          "iopub.status.idle": "2021-01-19T16:43:24.831984Z",
          "shell.execute_reply": "2021-01-19T16:43:24.831251Z"
        },
        "papermill": {
          "duration": 3.413036,
          "end_time": "2021-01-19T16:43:24.832130",
          "exception": false,
          "start_time": "2021-01-19T16:43:21.419094",
          "status": "completed"
        },
        "tags": [],
        "colab": {
          "base_uri": "https://localhost:8080/",
          "height": 415
        },
        "id": "h2bAWT7OvvlX",
        "outputId": "f5051f4a-f6ae-4467-90a5-2c4bc7dc2464"
      },
      "source": [
        "fig, ax= plt.subplots(nrows= 3, ncols = 3, figsize= (14,6))\n",
        "\n",
        "sns.scatterplot(x='ID', y='CNT_CHILDREN', data=app, ax=ax[0][0], color= 'orange')\n",
        "sns.scatterplot(x='ID', y='AMT_INCOME_TOTAL', data=app, ax=ax[0][1], color='orange')\n",
        "sns.scatterplot(x='ID', y='DAYS_BIRTH', data=app, ax=ax[0][2])\n",
        "sns.scatterplot(x='ID', y='DAYS_EMPLOYED', data=app, ax=ax[1][0])\n",
        "sns.scatterplot(x='ID', y='FLAG_MOBIL', data=app, ax=ax[1][1])\n",
        "sns.scatterplot(x='ID', y='FLAG_WORK_PHONE', data=app, ax=ax[1][2])\n",
        "sns.scatterplot(x='ID', y='FLAG_PHONE', data=app, ax=ax[2][0])\n",
        "sns.scatterplot(x='ID', y='FLAG_EMAIL', data=app, ax=ax[2][1])\n",
        "sns.scatterplot(x='ID', y='CNT_FAM_MEMBERS', data=app, ax=ax[2][2], color= 'orange')"
      ],
      "execution_count": null,
      "outputs": [
        {
          "output_type": "execute_result",
          "data": {
            "text/plain": [
              "<matplotlib.axes._subplots.AxesSubplot at 0x7ff3f17bc4d0>"
            ]
          },
          "metadata": {
            "tags": []
          },
          "execution_count": 27
        },
        {
          "output_type": "display_data",
          "data": {
            "image/png": "[encoded data removed]",
            "text/plain": [
              "<Figure size 1008x432 with 9 Axes>"
            ]
          },
          "metadata": {
            "tags": [],
            "needs_background": "light"
          }
        }
      ]
    },
    {
      "cell_type": "code",
      "metadata": {
        "execution": {
          "iopub.execute_input": "2021-01-19T16:43:24.940791Z",
          "iopub.status.busy": "2021-01-19T16:43:24.939259Z",
          "iopub.status.idle": "2021-01-19T16:43:25.291261Z",
          "shell.execute_reply": "2021-01-19T16:43:25.291752Z"
        },
        "papermill": {
          "duration": 0.410633,
          "end_time": "2021-01-19T16:43:25.291912",
          "exception": false,
          "start_time": "2021-01-19T16:43:24.881279",
          "status": "completed"
        },
        "tags": [],
        "colab": {
          "base_uri": "https://localhost:8080/",
          "height": 351
        },
        "id": "3EU4wTYvvvlX",
        "outputId": "37bcb3eb-8a42-4895-d813-410bef5c9b53"
      },
      "source": [
        "crecord['Months from today'] = crecord['MONTHS_BALANCE']*-1\n",
        "crecord = crecord.sort_values(['ID','Months from today'], ascending=True)\n",
        "crecord.head(10)\n",
        "# we calculated months from today column to see how much old is the month\n",
        "# we also sort the data according to ID and Months from today columns. "
      ],
      "execution_count": null,
      "outputs": [
        {
          "output_type": "execute_result",
          "data": {
            "text/html": [
              "<div>\n",
              "<style scoped>\n",
              "    .dataframe tbody tr th:only-of-type {\n",
              "        vertical-align: middle;\n",
              "    }\n",
              "\n",
              "    .dataframe tbody tr th {\n",
              "        vertical-align: top;\n",
              "    }\n",
              "\n",
              "    .dataframe thead th {\n",
              "        text-align: right;\n",
              "    }\n",
              "</style>\n",
              "<table border=\"1\" class=\"dataframe\">\n",
              "  <thead>\n",
              "    <tr style=\"text-align: right;\">\n",
              "      <th></th>\n",
              "      <th>ID</th>\n",
              "      <th>MONTHS_BALANCE</th>\n",
              "      <th>STATUS</th>\n",
              "      <th>Months from today</th>\n",
              "    </tr>\n",
              "  </thead>\n",
              "  <tbody>\n",
              "    <tr>\n",
              "      <th>0</th>\n",
              "      <td>5001711</td>\n",
              "      <td>0</td>\n",
              "      <td>X</td>\n",
              "      <td>0</td>\n",
              "    </tr>\n",
              "    <tr>\n",
              "      <th>1</th>\n",
              "      <td>5001711</td>\n",
              "      <td>-1</td>\n",
              "      <td>0</td>\n",
              "      <td>1</td>\n",
              "    </tr>\n",
              "    <tr>\n",
              "      <th>2</th>\n",
              "      <td>5001711</td>\n",
              "      <td>-2</td>\n",
              "      <td>0</td>\n",
              "      <td>2</td>\n",
              "    </tr>\n",
              "    <tr>\n",
              "      <th>3</th>\n",
              "      <td>5001711</td>\n",
              "      <td>-3</td>\n",
              "      <td>0</td>\n",
              "      <td>3</td>\n",
              "    </tr>\n",
              "    <tr>\n",
              "      <th>4</th>\n",
              "      <td>5001712</td>\n",
              "      <td>0</td>\n",
              "      <td>C</td>\n",
              "      <td>0</td>\n",
              "    </tr>\n",
              "    <tr>\n",
              "      <th>5</th>\n",
              "      <td>5001712</td>\n",
              "      <td>-1</td>\n",
              "      <td>C</td>\n",
              "      <td>1</td>\n",
              "    </tr>\n",
              "    <tr>\n",
              "      <th>6</th>\n",
              "      <td>5001712</td>\n",
              "      <td>-2</td>\n",
              "      <td>C</td>\n",
              "      <td>2</td>\n",
              "    </tr>\n",
              "    <tr>\n",
              "      <th>7</th>\n",
              "      <td>5001712</td>\n",
              "      <td>-3</td>\n",
              "      <td>C</td>\n",
              "      <td>3</td>\n",
              "    </tr>\n",
              "    <tr>\n",
              "      <th>8</th>\n",
              "      <td>5001712</td>\n",
              "      <td>-4</td>\n",
              "      <td>C</td>\n",
              "      <td>4</td>\n",
              "    </tr>\n",
              "    <tr>\n",
              "      <th>9</th>\n",
              "      <td>5001712</td>\n",
              "      <td>-5</td>\n",
              "      <td>C</td>\n",
              "      <td>5</td>\n",
              "    </tr>\n",
              "  </tbody>\n",
              "</table>\n",
              "</div>"
            ],
            "text/plain": [
              "        ID  MONTHS_BALANCE STATUS  Months from today\n",
              "0  5001711               0      X                  0\n",
              "1  5001711              -1      0                  1\n",
              "2  5001711              -2      0                  2\n",
              "3  5001711              -3      0                  3\n",
              "4  5001712               0      C                  0\n",
              "5  5001712              -1      C                  1\n",
              "6  5001712              -2      C                  2\n",
              "7  5001712              -3      C                  3\n",
              "8  5001712              -4      C                  4\n",
              "9  5001712              -5      C                  5"
            ]
          },
          "metadata": {
            "tags": []
          },
          "execution_count": 28
        }
      ]
    },
    {
      "cell_type": "code",
      "metadata": {
        "execution": {
          "iopub.execute_input": "2021-01-19T16:43:25.632679Z",
          "iopub.status.busy": "2021-01-19T16:43:25.631958Z",
          "iopub.status.idle": "2021-01-19T16:43:25.639357Z",
          "shell.execute_reply": "2021-01-19T16:43:25.638682Z"
        },
        "papermill": {
          "duration": 0.299218,
          "end_time": "2021-01-19T16:43:25.639467",
          "exception": false,
          "start_time": "2021-01-19T16:43:25.340249",
          "status": "completed"
        },
        "tags": [],
        "colab": {
          "base_uri": "https://localhost:8080/"
        },
        "id": "hYBJO7uLvvlX",
        "outputId": "dabede8d-6a56-4e41-8809-892674e21927"
      },
      "source": [
        "crecord['STATUS'].value_counts() \n",
        "# performed a value count on status to see how many values exist of each type"
      ],
      "execution_count": null,
      "outputs": [
        {
          "output_type": "execute_result",
          "data": {
            "text/plain": [
              "C    442031\n",
              "0    383120\n",
              "X    209230\n",
              "1     11090\n",
              "5      1693\n",
              "2       868\n",
              "3       320\n",
              "4       223\n",
              "Name: STATUS, dtype: int64"
            ]
          },
          "metadata": {
            "tags": []
          },
          "execution_count": 29
        }
      ]
    },
    {
      "cell_type": "code",
      "metadata": {
        "execution": {
          "iopub.execute_input": "2021-01-19T16:43:25.854771Z",
          "iopub.status.busy": "2021-01-19T16:43:25.854079Z",
          "iopub.status.idle": "2021-01-19T16:43:26.757804Z",
          "shell.execute_reply": "2021-01-19T16:43:26.757264Z"
        },
        "papermill": {
          "duration": 1.068834,
          "end_time": "2021-01-19T16:43:26.757922",
          "exception": false,
          "start_time": "2021-01-19T16:43:25.689088",
          "status": "completed"
        },
        "tags": [],
        "id": "6mc_dUGovvlX"
      },
      "source": [
        "crecord['STATUS'].replace({'C': 0, 'X' : 0}, inplace=True)\n",
        "crecord['STATUS'] = crecord['STATUS'].astype('int')\n",
        "crecord['STATUS'] = crecord['STATUS'].apply(lambda x:1 if x >= 2 else 0)\n"
      ],
      "execution_count": null,
      "outputs": []
    },
    {
      "cell_type": "code",
      "metadata": {
        "execution": {
          "iopub.execute_input": "2021-01-19T16:43:26.862634Z",
          "iopub.status.busy": "2021-01-19T16:43:26.861539Z",
          "iopub.status.idle": "2021-01-19T16:43:26.875423Z",
          "shell.execute_reply": "2021-01-19T16:43:26.874752Z"
        },
        "papermill": {
          "duration": 0.068324,
          "end_time": "2021-01-19T16:43:26.875530",
          "exception": false,
          "start_time": "2021-01-19T16:43:26.807206",
          "status": "completed"
        },
        "tags": [],
        "colab": {
          "base_uri": "https://localhost:8080/"
        },
        "id": "FU_0egCxvvlY",
        "outputId": "ee6d936a-77e2-41ab-b21e-033ae5fba626"
      },
      "source": [
        "crecord['STATUS'].value_counts(normalize=True) \n"
      ],
      "execution_count": null,
      "outputs": [
        {
          "output_type": "execute_result",
          "data": {
            "text/plain": [
              "0    0.99704\n",
              "1    0.00296\n",
              "Name: STATUS, dtype: float64"
            ]
          },
          "metadata": {
            "tags": []
          },
          "execution_count": 31
        }
      ]
    },
    {
      "cell_type": "code",
      "metadata": {
        "execution": {
          "iopub.execute_input": "2021-01-19T16:43:26.983561Z",
          "iopub.status.busy": "2021-01-19T16:43:26.982825Z",
          "iopub.status.idle": "2021-01-19T16:43:27.059803Z",
          "shell.execute_reply": "2021-01-19T16:43:27.060383Z"
        },
        "papermill": {
          "duration": 0.133895,
          "end_time": "2021-01-19T16:43:27.060524",
          "exception": false,
          "start_time": "2021-01-19T16:43:26.926629",
          "status": "completed"
        },
        "tags": [],
        "colab": {
          "base_uri": "https://localhost:8080/",
          "height": 200
        },
        "id": "9ftEbsbjvvlY",
        "outputId": "25a10c19-0b02-4cce-ee58-50c7cddd9dd7"
      },
      "source": [
        "crecordgb = crecord.groupby('ID').agg(max).reset_index()\n",
        "crecordgb.head() \n"
      ],
      "execution_count": null,
      "outputs": [
        {
          "output_type": "execute_result",
          "data": {
            "text/html": [
              "<div>\n",
              "<style scoped>\n",
              "    .dataframe tbody tr th:only-of-type {\n",
              "        vertical-align: middle;\n",
              "    }\n",
              "\n",
              "    .dataframe tbody tr th {\n",
              "        vertical-align: top;\n",
              "    }\n",
              "\n",
              "    .dataframe thead th {\n",
              "        text-align: right;\n",
              "    }\n",
              "</style>\n",
              "<table border=\"1\" class=\"dataframe\">\n",
              "  <thead>\n",
              "    <tr style=\"text-align: right;\">\n",
              "      <th></th>\n",
              "      <th>ID</th>\n",
              "      <th>MONTHS_BALANCE</th>\n",
              "      <th>STATUS</th>\n",
              "      <th>Months from today</th>\n",
              "    </tr>\n",
              "  </thead>\n",
              "  <tbody>\n",
              "    <tr>\n",
              "      <th>0</th>\n",
              "      <td>5001711</td>\n",
              "      <td>0</td>\n",
              "      <td>0</td>\n",
              "      <td>3</td>\n",
              "    </tr>\n",
              "    <tr>\n",
              "      <th>1</th>\n",
              "      <td>5001712</td>\n",
              "      <td>0</td>\n",
              "      <td>0</td>\n",
              "      <td>18</td>\n",
              "    </tr>\n",
              "    <tr>\n",
              "      <th>2</th>\n",
              "      <td>5001713</td>\n",
              "      <td>0</td>\n",
              "      <td>0</td>\n",
              "      <td>21</td>\n",
              "    </tr>\n",
              "    <tr>\n",
              "      <th>3</th>\n",
              "      <td>5001714</td>\n",
              "      <td>0</td>\n",
              "      <td>0</td>\n",
              "      <td>14</td>\n",
              "    </tr>\n",
              "    <tr>\n",
              "      <th>4</th>\n",
              "      <td>5001715</td>\n",
              "      <td>0</td>\n",
              "      <td>0</td>\n",
              "      <td>59</td>\n",
              "    </tr>\n",
              "  </tbody>\n",
              "</table>\n",
              "</div>"
            ],
            "text/plain": [
              "        ID  MONTHS_BALANCE  STATUS  Months from today\n",
              "0  5001711               0       0                  3\n",
              "1  5001712               0       0                 18\n",
              "2  5001713               0       0                 21\n",
              "3  5001714               0       0                 14\n",
              "4  5001715               0       0                 59"
            ]
          },
          "metadata": {
            "tags": []
          },
          "execution_count": 32
        }
      ]
    },
    {
      "cell_type": "code",
      "metadata": {
        "execution": {
          "iopub.execute_input": "2021-01-19T16:43:27.164906Z",
          "iopub.status.busy": "2021-01-19T16:43:27.163919Z",
          "iopub.status.idle": "2021-01-19T16:43:27.216010Z",
          "shell.execute_reply": "2021-01-19T16:43:27.216588Z"
        },
        "papermill": {
          "duration": 0.105892,
          "end_time": "2021-01-19T16:43:27.216726",
          "exception": false,
          "start_time": "2021-01-19T16:43:27.110834",
          "status": "completed"
        },
        "tags": [],
        "colab": {
          "base_uri": "https://localhost:8080/",
          "height": 220
        },
        "id": "0pH1-UXPvvlY",
        "outputId": "83377ab1-b9c7-4079-9755-f9f1101e5707"
      },
      "source": [
        "df = app.join(crecordgb.set_index('ID'), on='ID', how='inner')\n",
        "df.drop(['Months from today', 'MONTHS_BALANCE'], axis=1, inplace=True)\n",
        "df.head()\n",
        "# no that this is joined, we will solve over sampling issue"
      ],
      "execution_count": null,
      "outputs": [
        {
          "output_type": "execute_result",
          "data": {
            "text/html": [
              "<div>\n",
              "<style scoped>\n",
              "    .dataframe tbody tr th:only-of-type {\n",
              "        vertical-align: middle;\n",
              "    }\n",
              "\n",
              "    .dataframe tbody tr th {\n",
              "        vertical-align: top;\n",
              "    }\n",
              "\n",
              "    .dataframe thead th {\n",
              "        text-align: right;\n",
              "    }\n",
              "</style>\n",
              "<table border=\"1\" class=\"dataframe\">\n",
              "  <thead>\n",
              "    <tr style=\"text-align: right;\">\n",
              "      <th></th>\n",
              "      <th>ID</th>\n",
              "      <th>CODE_GENDER</th>\n",
              "      <th>FLAG_OWN_CAR</th>\n",
              "      <th>FLAG_OWN_REALTY</th>\n",
              "      <th>CNT_CHILDREN</th>\n",
              "      <th>AMT_INCOME_TOTAL</th>\n",
              "      <th>NAME_INCOME_TYPE</th>\n",
              "      <th>NAME_EDUCATION_TYPE</th>\n",
              "      <th>NAME_FAMILY_STATUS</th>\n",
              "      <th>NAME_HOUSING_TYPE</th>\n",
              "      <th>DAYS_BIRTH</th>\n",
              "      <th>DAYS_EMPLOYED</th>\n",
              "      <th>FLAG_MOBIL</th>\n",
              "      <th>FLAG_WORK_PHONE</th>\n",
              "      <th>FLAG_PHONE</th>\n",
              "      <th>FLAG_EMAIL</th>\n",
              "      <th>CNT_FAM_MEMBERS</th>\n",
              "      <th>STATUS</th>\n",
              "    </tr>\n",
              "  </thead>\n",
              "  <tbody>\n",
              "    <tr>\n",
              "      <th>29</th>\n",
              "      <td>5008838</td>\n",
              "      <td>1</td>\n",
              "      <td>0</td>\n",
              "      <td>1</td>\n",
              "      <td>1</td>\n",
              "      <td>405000.0</td>\n",
              "      <td>0</td>\n",
              "      <td>1</td>\n",
              "      <td>1</td>\n",
              "      <td>1</td>\n",
              "      <td>-11842</td>\n",
              "      <td>-2016</td>\n",
              "      <td>1</td>\n",
              "      <td>0</td>\n",
              "      <td>0</td>\n",
              "      <td>0</td>\n",
              "      <td>3.0</td>\n",
              "      <td>0</td>\n",
              "    </tr>\n",
              "    <tr>\n",
              "      <th>30</th>\n",
              "      <td>5008839</td>\n",
              "      <td>1</td>\n",
              "      <td>0</td>\n",
              "      <td>1</td>\n",
              "      <td>1</td>\n",
              "      <td>405000.0</td>\n",
              "      <td>0</td>\n",
              "      <td>1</td>\n",
              "      <td>1</td>\n",
              "      <td>1</td>\n",
              "      <td>-11842</td>\n",
              "      <td>-2016</td>\n",
              "      <td>1</td>\n",
              "      <td>0</td>\n",
              "      <td>0</td>\n",
              "      <td>0</td>\n",
              "      <td>3.0</td>\n",
              "      <td>0</td>\n",
              "    </tr>\n",
              "    <tr>\n",
              "      <th>31</th>\n",
              "      <td>5008840</td>\n",
              "      <td>1</td>\n",
              "      <td>0</td>\n",
              "      <td>1</td>\n",
              "      <td>1</td>\n",
              "      <td>405000.0</td>\n",
              "      <td>0</td>\n",
              "      <td>1</td>\n",
              "      <td>1</td>\n",
              "      <td>1</td>\n",
              "      <td>-11842</td>\n",
              "      <td>-2016</td>\n",
              "      <td>1</td>\n",
              "      <td>0</td>\n",
              "      <td>0</td>\n",
              "      <td>0</td>\n",
              "      <td>3.0</td>\n",
              "      <td>0</td>\n",
              "    </tr>\n",
              "    <tr>\n",
              "      <th>32</th>\n",
              "      <td>5008841</td>\n",
              "      <td>1</td>\n",
              "      <td>0</td>\n",
              "      <td>1</td>\n",
              "      <td>1</td>\n",
              "      <td>405000.0</td>\n",
              "      <td>0</td>\n",
              "      <td>1</td>\n",
              "      <td>1</td>\n",
              "      <td>1</td>\n",
              "      <td>-11842</td>\n",
              "      <td>-2016</td>\n",
              "      <td>1</td>\n",
              "      <td>0</td>\n",
              "      <td>0</td>\n",
              "      <td>0</td>\n",
              "      <td>3.0</td>\n",
              "      <td>0</td>\n",
              "    </tr>\n",
              "    <tr>\n",
              "      <th>33</th>\n",
              "      <td>5008842</td>\n",
              "      <td>1</td>\n",
              "      <td>0</td>\n",
              "      <td>1</td>\n",
              "      <td>1</td>\n",
              "      <td>405000.0</td>\n",
              "      <td>0</td>\n",
              "      <td>1</td>\n",
              "      <td>1</td>\n",
              "      <td>1</td>\n",
              "      <td>-11842</td>\n",
              "      <td>-2016</td>\n",
              "      <td>1</td>\n",
              "      <td>0</td>\n",
              "      <td>0</td>\n",
              "      <td>0</td>\n",
              "      <td>3.0</td>\n",
              "      <td>0</td>\n",
              "    </tr>\n",
              "  </tbody>\n",
              "</table>\n",
              "</div>"
            ],
            "text/plain": [
              "         ID  CODE_GENDER  FLAG_OWN_CAR  ...  FLAG_EMAIL  CNT_FAM_MEMBERS  STATUS\n",
              "29  5008838            1             0  ...           0              3.0       0\n",
              "30  5008839            1             0  ...           0              3.0       0\n",
              "31  5008840            1             0  ...           0              3.0       0\n",
              "32  5008841            1             0  ...           0              3.0       0\n",
              "33  5008842            1             0  ...           0              3.0       0\n",
              "\n",
              "[5 rows x 18 columns]"
            ]
          },
          "metadata": {
            "tags": []
          },
          "execution_count": 33
        }
      ]
    },
    {
      "cell_type": "code",
      "metadata": {
        "execution": {
          "iopub.execute_input": "2021-01-19T16:43:27.424602Z",
          "iopub.status.busy": "2021-01-19T16:43:27.423648Z",
          "iopub.status.idle": "2021-01-19T16:43:27.436669Z",
          "shell.execute_reply": "2021-01-19T16:43:27.437119Z"
        },
        "papermill": {
          "duration": 0.067462,
          "end_time": "2021-01-19T16:43:27.437291",
          "exception": false,
          "start_time": "2021-01-19T16:43:27.369829",
          "status": "completed"
        },
        "tags": [],
        "colab": {
          "base_uri": "https://localhost:8080/"
        },
        "id": "mLwVNQojvvlY",
        "outputId": "4008367f-e86e-4e0e-dfbf-d0df360023ca"
      },
      "source": [
        "df.info() # checking for number of rows. \n",
        "# there are 9516 rows."
      ],
      "execution_count": null,
      "outputs": [
        {
          "output_type": "stream",
          "text": [
            "<class 'pandas.core.frame.DataFrame'>\n",
            "Int64Index: 9516 entries, 29 to 434805\n",
            "Data columns (total 18 columns):\n",
            " #   Column               Non-Null Count  Dtype  \n",
            "---  ------               --------------  -----  \n",
            " 0   ID                   9516 non-null   int64  \n",
            " 1   CODE_GENDER          9516 non-null   int64  \n",
            " 2   FLAG_OWN_CAR         9516 non-null   int64  \n",
            " 3   FLAG_OWN_REALTY      9516 non-null   int64  \n",
            " 4   CNT_CHILDREN         9516 non-null   int64  \n",
            " 5   AMT_INCOME_TOTAL     9516 non-null   float64\n",
            " 6   NAME_INCOME_TYPE     9516 non-null   int64  \n",
            " 7   NAME_EDUCATION_TYPE  9516 non-null   int64  \n",
            " 8   NAME_FAMILY_STATUS   9516 non-null   int64  \n",
            " 9   NAME_HOUSING_TYPE    9516 non-null   int64  \n",
            " 10  DAYS_BIRTH           9516 non-null   int64  \n",
            " 11  DAYS_EMPLOYED        9516 non-null   int64  \n",
            " 12  FLAG_MOBIL           9516 non-null   int64  \n",
            " 13  FLAG_WORK_PHONE      9516 non-null   int64  \n",
            " 14  FLAG_PHONE           9516 non-null   int64  \n",
            " 15  FLAG_EMAIL           9516 non-null   int64  \n",
            " 16  CNT_FAM_MEMBERS      9516 non-null   float64\n",
            " 17  STATUS               9516 non-null   int64  \n",
            "dtypes: float64(2), int64(16)\n",
            "memory usage: 1.4 MB\n"
          ],
          "name": "stdout"
        }
      ]
    },
    {
      "cell_type": "code",
      "metadata": {
        "execution": {
          "iopub.execute_input": "2021-01-19T16:43:27.546082Z",
          "iopub.status.busy": "2021-01-19T16:43:27.545423Z",
          "iopub.status.idle": "2021-01-19T16:43:27.547290Z",
          "shell.execute_reply": "2021-01-19T16:43:27.547974Z"
        },
        "papermill": {
          "duration": 0.059692,
          "end_time": "2021-01-19T16:43:27.548153",
          "exception": false,
          "start_time": "2021-01-19T16:43:27.488461",
          "status": "completed"
        },
        "tags": [],
        "id": "wAdSA4iYvvlZ"
      },
      "source": [
        "X = df.iloc[:,1:-1] # X value contains all the variables except labels\n",
        "y = df.iloc[:,-1] # these are the labels"
      ],
      "execution_count": null,
      "outputs": []
    },
    {
      "cell_type": "code",
      "metadata": {
        "execution": {
          "iopub.execute_input": "2021-01-19T16:43:27.656053Z",
          "iopub.status.busy": "2021-01-19T16:43:27.655435Z",
          "iopub.status.idle": "2021-01-19T16:43:27.723244Z",
          "shell.execute_reply": "2021-01-19T16:43:27.722584Z"
        },
        "papermill": {
          "duration": 0.123154,
          "end_time": "2021-01-19T16:43:27.723369",
          "exception": false,
          "start_time": "2021-01-19T16:43:27.600215",
          "status": "completed"
        },
        "tags": [],
        "id": "C6GzCn5vvvlZ"
      },
      "source": [
        "from sklearn.model_selection import train_test_split\n",
        "X_train, X_test, y_train, y_test = train_test_split(X,y, test_size=0.3)\n",
        "# we create the test train split first"
      ],
      "execution_count": null,
      "outputs": []
    },
    {
      "cell_type": "code",
      "metadata": {
        "execution": {
          "iopub.execute_input": "2021-01-19T16:43:27.830472Z",
          "iopub.status.busy": "2021-01-19T16:43:27.829852Z",
          "iopub.status.idle": "2021-01-19T16:43:27.843035Z",
          "shell.execute_reply": "2021-01-19T16:43:27.843584Z"
        },
        "papermill": {
          "duration": 0.068143,
          "end_time": "2021-01-19T16:43:27.843725",
          "exception": false,
          "start_time": "2021-01-19T16:43:27.775582",
          "status": "completed"
        },
        "tags": [],
        "id": "u7Mwal-yvvlZ"
      },
      "source": [
        "from sklearn.preprocessing import MinMaxScaler\n",
        "mms = MinMaxScaler()\n",
        "X_scaled = pd.DataFrame(mms.fit_transform(X_train), columns=X_train.columns)\n",
        "X_test_scaled = pd.DataFrame(mms.transform(X_test), columns=X_test.columns)\n",
        "# we have now fit and transform the data into a scaler for accurate reading and results."
      ],
      "execution_count": null,
      "outputs": []
    },
    {
      "cell_type": "code",
      "metadata": {
        "execution": {
          "iopub.execute_input": "2021-01-19T16:43:27.950327Z",
          "iopub.status.busy": "2021-01-19T16:43:27.949700Z",
          "iopub.status.idle": "2021-01-19T16:43:28.313923Z",
          "shell.execute_reply": "2021-01-19T16:43:28.313374Z"
        },
        "papermill": {
          "duration": 0.418554,
          "end_time": "2021-01-19T16:43:28.314041",
          "exception": false,
          "start_time": "2021-01-19T16:43:27.895487",
          "status": "completed"
        },
        "tags": [],
        "colab": {
          "base_uri": "https://localhost:8080/"
        },
        "id": "y8HANDzNvvlZ",
        "outputId": "f23b6a16-c3c7-4909-ca25-cb0cbaf90eea"
      },
      "source": [
        "from imblearn.over_sampling import SMOTE\n",
        "oversample = SMOTE()\n",
        "X_balanced, y_balanced = oversample.fit_resample(X_scaled, y_train)\n",
        "X_test_balanced, y_test_balanced = oversample.fit_resample(X_test_scaled, y_test)\n",
        "# we have addressed the issue of oversampling here"
      ],
      "execution_count": null,
      "outputs": [
        {
          "output_type": "stream",
          "text": [
            "/usr/local/lib/python3.7/dist-packages/sklearn/externals/six.py:31: FutureWarning: The module is deprecated in version 0.21 and will be removed in version 0.23 since we've dropped support for Python 2.7. Please rely on the official version of six (https://pypi.org/project/six/).\n",
            "  \"(https://pypi.org/project/six/).\", FutureWarning)\n",
            "/usr/local/lib/python3.7/dist-packages/sklearn/utils/deprecation.py:144: FutureWarning: The sklearn.neighbors.base module is  deprecated in version 0.22 and will be removed in version 0.24. The corresponding classes / functions should instead be imported from sklearn.neighbors. Anything that cannot be imported from sklearn.neighbors is now part of the private API.\n",
            "  warnings.warn(message, FutureWarning)\n",
            "/usr/local/lib/python3.7/dist-packages/sklearn/utils/deprecation.py:87: FutureWarning: Function safe_indexing is deprecated; safe_indexing is deprecated in version 0.22 and will be removed in version 0.24.\n",
            "  warnings.warn(msg, category=FutureWarning)\n",
            "/usr/local/lib/python3.7/dist-packages/sklearn/utils/deprecation.py:87: FutureWarning: Function safe_indexing is deprecated; safe_indexing is deprecated in version 0.22 and will be removed in version 0.24.\n",
            "  warnings.warn(msg, category=FutureWarning)\n"
          ],
          "name": "stderr"
        }
      ]
    },
    {
      "cell_type": "code",
      "metadata": {
        "execution": {
          "iopub.execute_input": "2021-01-19T16:43:28.431006Z",
          "iopub.status.busy": "2021-01-19T16:43:28.430365Z",
          "iopub.status.idle": "2021-01-19T16:43:28.434318Z",
          "shell.execute_reply": "2021-01-19T16:43:28.433745Z"
        },
        "papermill": {
          "duration": 0.063541,
          "end_time": "2021-01-19T16:43:28.434454",
          "exception": false,
          "start_time": "2021-01-19T16:43:28.370913",
          "status": "completed"
        },
        "tags": [],
        "colab": {
          "base_uri": "https://localhost:8080/"
        },
        "id": "c5jg-TsAvvlZ",
        "outputId": "20e0b9d2-26a3-40c3-83fd-12ef040bfa20"
      },
      "source": [
        "y_train.value_counts()"
      ],
      "execution_count": null,
      "outputs": [
        {
          "output_type": "execute_result",
          "data": {
            "text/plain": [
              "0    6558\n",
              "1     103\n",
              "Name: STATUS, dtype: int64"
            ]
          },
          "metadata": {
            "tags": []
          },
          "execution_count": 39
        }
      ]
    },
    {
      "cell_type": "code",
      "metadata": {
        "execution": {
          "iopub.execute_input": "2021-01-19T16:43:28.659778Z",
          "iopub.status.busy": "2021-01-19T16:43:28.659065Z",
          "iopub.status.idle": "2021-01-19T16:43:28.666850Z",
          "shell.execute_reply": "2021-01-19T16:43:28.666184Z"
        },
        "papermill": {
          "duration": 0.064072,
          "end_time": "2021-01-19T16:43:28.666957",
          "exception": false,
          "start_time": "2021-01-19T16:43:28.602885",
          "status": "completed"
        },
        "tags": [],
        "colab": {
          "base_uri": "https://localhost:8080/"
        },
        "id": "x9hEQbM8vvla",
        "outputId": "aae3dbd3-7d66-4eaf-f283-e0a2d8144a71"
      },
      "source": [
        "y_test.value_counts()"
      ],
      "execution_count": null,
      "outputs": [
        {
          "output_type": "execute_result",
          "data": {
            "text/plain": [
              "0    2807\n",
              "1      48\n",
              "Name: STATUS, dtype: int64"
            ]
          },
          "metadata": {
            "tags": []
          },
          "execution_count": 40
        }
      ]
    },
    {
      "cell_type": "markdown",
      "metadata": {
        "papermill": {
          "duration": 0.053665,
          "end_time": "2021-01-19T16:43:28.893288",
          "exception": false,
          "start_time": "2021-01-19T16:43:28.839623",
          "status": "completed"
        },
        "tags": [],
        "id": "6x_h0w2Kvvla"
      },
      "source": [
        "* We notice in the value counts above that label types are now balanced\n",
        "* the problem of oversampling is solved now\n",
        "* we will now implement different models to see which one performs the best"
      ]
    },
    {
      "cell_type": "code",
      "metadata": {
        "colab": {
          "base_uri": "https://localhost:8080/"
        },
        "id": "gjiwN_0b39VQ",
        "outputId": "495639f2-3428-45d7-cf6e-02f9e97d490b"
      },
      "source": [
        "!pip install scikit-plot\n",
        "!pip install stemgraphic\n",
        "!pip install graphviz\n",
        "!pip install pydotplus\n",
        "!pip install statsmodels"
      ],
      "execution_count": null,
      "outputs": [
        {
          "output_type": "stream",
          "text": [
            "Requirement already satisfied: scikit-plot in /usr/local/lib/python3.7/dist-packages (0.3.7)\n",
            "Requirement already satisfied: joblib>=0.10 in /usr/local/lib/python3.7/dist-packages (from scikit-plot) (1.0.1)\n",
            "Requirement already satisfied: scikit-learn>=0.18 in /usr/local/lib/python3.7/dist-packages (from scikit-plot) (0.22.2.post1)\n",
            "Requirement already satisfied: scipy>=0.9 in /usr/local/lib/python3.7/dist-packages (from scikit-plot) (1.4.1)\n",
            "Requirement already satisfied: matplotlib>=1.4.0 in /usr/local/lib/python3.7/dist-packages (from scikit-plot) (3.2.2)\n",
            "Requirement already satisfied: numpy>=1.11.0 in /usr/local/lib/python3.7/dist-packages (from scikit-learn>=0.18->scikit-plot) (1.19.5)\n",
            "Requirement already satisfied: kiwisolver>=1.0.1 in /usr/local/lib/python3.7/dist-packages (from matplotlib>=1.4.0->scikit-plot) (1.3.1)\n",
            "Requirement already satisfied: pyparsing!=2.0.4,!=2.1.2,!=2.1.6,>=2.0.1 in /usr/local/lib/python3.7/dist-packages (from matplotlib>=1.4.0->scikit-plot) (2.4.7)\n",
            "Requirement already satisfied: python-dateutil>=2.1 in /usr/local/lib/python3.7/dist-packages (from matplotlib>=1.4.0->scikit-plot) (2.8.1)\n",
            "Requirement already satisfied: cycler>=0.10 in /usr/local/lib/python3.7/dist-packages (from matplotlib>=1.4.0->scikit-plot) (0.10.0)\n",
            "Requirement already satisfied: six>=1.5 in /usr/local/lib/python3.7/dist-packages (from python-dateutil>=2.1->matplotlib>=1.4.0->scikit-plot) (1.15.0)\n",
            "Requirement already satisfied: stemgraphic in /usr/local/lib/python3.7/dist-packages (0.9.1)\n",
            "Requirement already satisfied: docopt in /usr/local/lib/python3.7/dist-packages (from stemgraphic) (0.6.2)\n",
            "Requirement already satisfied: matplotlib in /usr/local/lib/python3.7/dist-packages (from stemgraphic) (3.2.2)\n",
            "Requirement already satisfied: pandas in /usr/local/lib/python3.7/dist-packages (from stemgraphic) (1.1.5)\n",
            "Requirement already satisfied: seaborn in /usr/local/lib/python3.7/dist-packages (from stemgraphic) (0.11.1)\n",
            "Requirement already satisfied: numpy>=1.11 in /usr/local/lib/python3.7/dist-packages (from matplotlib->stemgraphic) (1.19.5)\n",
            "Requirement already satisfied: pyparsing!=2.0.4,!=2.1.2,!=2.1.6,>=2.0.1 in /usr/local/lib/python3.7/dist-packages (from matplotlib->stemgraphic) (2.4.7)\n",
            "Requirement already satisfied: python-dateutil>=2.1 in /usr/local/lib/python3.7/dist-packages (from matplotlib->stemgraphic) (2.8.1)\n",
            "Requirement already satisfied: kiwisolver>=1.0.1 in /usr/local/lib/python3.7/dist-packages (from matplotlib->stemgraphic) (1.3.1)\n",
            "Requirement already satisfied: cycler>=0.10 in /usr/local/lib/python3.7/dist-packages (from matplotlib->stemgraphic) (0.10.0)\n",
            "Requirement already satisfied: pytz>=2017.2 in /usr/local/lib/python3.7/dist-packages (from pandas->stemgraphic) (2018.9)\n",
            "Requirement already satisfied: scipy>=1.0 in /usr/local/lib/python3.7/dist-packages (from seaborn->stemgraphic) (1.4.1)\n",
            "Requirement already satisfied: six>=1.5 in /usr/local/lib/python3.7/dist-packages (from python-dateutil>=2.1->matplotlib->stemgraphic) (1.15.0)\n",
            "Requirement already satisfied: graphviz in /usr/local/lib/python3.7/dist-packages (0.10.1)\n",
            "Requirement already satisfied: pydotplus in /usr/local/lib/python3.7/dist-packages (2.0.2)\n",
            "Requirement already satisfied: pyparsing>=2.0.1 in /usr/local/lib/python3.7/dist-packages (from pydotplus) (2.4.7)\n",
            "Requirement already satisfied: statsmodels in /usr/local/lib/python3.7/dist-packages (0.10.2)\n",
            "Requirement already satisfied: pandas>=0.19 in /usr/local/lib/python3.7/dist-packages (from statsmodels) (1.1.5)\n",
            "Requirement already satisfied: scipy>=0.18 in /usr/local/lib/python3.7/dist-packages (from statsmodels) (1.4.1)\n",
            "Requirement already satisfied: patsy>=0.4.0 in /usr/local/lib/python3.7/dist-packages (from statsmodels) (0.5.1)\n",
            "Requirement already satisfied: numpy>=1.11 in /usr/local/lib/python3.7/dist-packages (from statsmodels) (1.19.5)\n",
            "Requirement already satisfied: pytz>=2017.2 in /usr/local/lib/python3.7/dist-packages (from pandas>=0.19->statsmodels) (2018.9)\n",
            "Requirement already satisfied: python-dateutil>=2.7.3 in /usr/local/lib/python3.7/dist-packages (from pandas>=0.19->statsmodels) (2.8.1)\n",
            "Requirement already satisfied: six in /usr/local/lib/python3.7/dist-packages (from patsy>=0.4.0->statsmodels) (1.15.0)\n"
          ],
          "name": "stdout"
        }
      ]
    },
    {
      "cell_type": "code",
      "metadata": {
        "execution": {
          "iopub.execute_input": "2021-01-19T16:43:29.008089Z",
          "iopub.status.busy": "2021-01-19T16:43:29.007460Z",
          "iopub.status.idle": "2021-01-19T16:43:29.950668Z",
          "shell.execute_reply": "2021-01-19T16:43:29.951210Z"
        },
        "papermill": {
          "duration": 1.00278,
          "end_time": "2021-01-19T16:43:29.951365",
          "exception": false,
          "start_time": "2021-01-19T16:43:28.948585",
          "status": "completed"
        },
        "tags": [],
        "colab": {
          "base_uri": "https://localhost:8080/"
        },
        "id": "0GgJgXNcvvla",
        "outputId": "c6f5a353-ba94-419a-bf90-c893bc02221d"
      },
      "source": [
        "from sklearn.linear_model import LogisticRegression\n",
        "from sklearn.neighbors import KNeighborsClassifier\n",
        "from sklearn.svm import SVC\n",
        "from sklearn.tree import DecisionTreeClassifier\n",
        "from sklearn.ensemble import RandomForestClassifier\n",
        "from xgboost import XGBClassifier\n",
        "import matplotlib.pyplot as plt\n",
        "from sklearn.metrics import confusion_matrix\n",
        "from sklearn.metrics import accuracy_score\n",
        "from sklearn.tree import DecisionTreeClassifier, export_graphviz\n",
        "from sklearn.metrics import classification_report, confusion_matrix, roc_auc_score, roc_curve, accuracy_score\n",
        "import scikitplot as skplt\n",
        "import statsmodels.api as sm\n",
        "from sklearn.externals.six import StringIO "
      ],
      "execution_count": null,
      "outputs": [
        {
          "output_type": "stream",
          "text": [
            "/usr/local/lib/python3.7/dist-packages/statsmodels/tools/_testing.py:19: FutureWarning: pandas.util.testing is deprecated. Use the functions in the public API at pandas.testing instead.\n",
            "  import pandas.util.testing as tm\n"
          ],
          "name": "stderr"
        }
      ]
    },
    {
      "cell_type": "markdown",
      "metadata": {
        "id": "Ek-e61Sd2csw"
      },
      "source": [
        "## **NAIVES BAYES**"
      ]
    },
    {
      "cell_type": "code",
      "metadata": {
        "colab": {
          "base_uri": "https://localhost:8080/"
        },
        "id": "JAhfTIWuxJgW",
        "outputId": "06c71bad-9fdc-4dfb-8b55-4562c8aac970"
      },
      "source": [
        "from sklearn.naive_bayes import GaussianNB\n",
        "gaussian=GaussianNB()\n",
        "gaussian.fit(X_train,y_train)\n",
        "bayes_pred=gaussian.predict(X_test)\n",
        "bayes_cm=confusion_matrix(y_test,bayes_pred)\n",
        "print(\"The accuracy of naives bayes is:\",accuracy_score(bayes_pred,y_test))"
      ],
      "execution_count": null,
      "outputs": [
        {
          "output_type": "stream",
          "text": [
            "The accuracy of naives bayes is: 0.9590192644483363\n"
          ],
          "name": "stdout"
        }
      ]
    },
    {
      "cell_type": "code",
      "metadata": {
        "colab": {
          "base_uri": "https://localhost:8080/",
          "height": 272
        },
        "id": "LgSesQG2zjnl",
        "outputId": "12621772-9e8b-486d-dee0-37a278748698"
      },
      "source": [
        "df_cm = pd.DataFrame(bayes_cm, range(2), range(2))\n",
        "# plt.figure(figsize=(10,7))\n",
        "sns.set(font_scale=1.4) # for label size\n",
        "sns.heatmap(df_cm, annot=True, annot_kws={\"size\": 16},fmt=\"d\") # font size\n",
        "\n",
        "plt.show()"
      ],
      "execution_count": null,
      "outputs": [
        {
          "output_type": "display_data",
          "data": {
            "image/png": "[encoded data removed]",
            "text/plain": [
              "<Figure size 432x288 with 2 Axes>"
            ]
          },
          "metadata": {
            "tags": []
          }
        }
      ]
    },
    {
      "cell_type": "markdown",
      "metadata": {
        "id": "4UmgyoXx2kJy"
      },
      "source": [
        "### **LOGISTIC REGRESSION**"
      ]
    },
    {
      "cell_type": "code",
      "metadata": {
        "colab": {
          "base_uri": "https://localhost:8080/"
        },
        "id": "4oA_YFxjzyHh",
        "outputId": "2c34f0da-9a83-4b4c-85ad-286103ffd7f5"
      },
      "source": [
        "from sklearn.linear_model import LogisticRegression\n",
        "lr_c=LogisticRegression(random_state=0)\n",
        "lr_c.fit(X_train,y_train)\n",
        "lr_pred=lr_c.predict(X_test)\n",
        "lr_cm=confusion_matrix(y_test,lr_pred)\n",
        "print(\"The accuracy of  LogisticRegression is:\",accuracy_score(y_test, lr_pred))"
      ],
      "execution_count": null,
      "outputs": [
        {
          "output_type": "stream",
          "text": [
            "The accuracy of  LogisticRegression is: 0.9831873905429072\n"
          ],
          "name": "stdout"
        }
      ]
    },
    {
      "cell_type": "code",
      "metadata": {
        "colab": {
          "base_uri": "https://localhost:8080/",
          "height": 272
        },
        "id": "9pQUZlb7z16t",
        "outputId": "5102dd51-40f8-4d00-a2b9-7e87c6985ef7"
      },
      "source": [
        "\n",
        "df_cm = pd.DataFrame(lr_cm, range(2), range(2))\n",
        "# plt.figure(figsize=(10,7))\n",
        "sns.set(font_scale=1.4) # for label size\n",
        "sns.heatmap(df_cm, annot=True, annot_kws={\"size\": 16},fmt=\"d\") # font size\n",
        "\n",
        "plt.show()"
      ],
      "execution_count": null,
      "outputs": [
        {
          "output_type": "display_data",
          "data": {
            "image/png": "[encoded data removed]",
            "text/plain": [
              "<Figure size 432x288 with 2 Axes>"
            ]
          },
          "metadata": {
            "tags": []
          }
        }
      ]
    },
    {
      "cell_type": "markdown",
      "metadata": {
        "id": "JdHVOyZQ2sJV"
      },
      "source": [
        "### **RANDOM FOREST**"
      ]
    },
    {
      "cell_type": "code",
      "metadata": {
        "colab": {
          "base_uri": "https://localhost:8080/"
        },
        "id": "gFIy4qTJ0ACg",
        "outputId": "79913123-81d3-461f-8eea-46566651bd7a"
      },
      "source": [
        "from sklearn.ensemble import RandomForestClassifier\n",
        "rdf_c=RandomForestClassifier(n_estimators=10,criterion='entropy',random_state=0)\n",
        "rdf_c.fit(X_train,y_train)\n",
        "rdf_pred=rdf_c.predict(X_test)\n",
        "rdf_cm=confusion_matrix(y_test,rdf_pred)\n",
        "print(\"The accuracy of RandomForestClassifier is:\",accuracy_score(rdf_pred,y_test))"
      ],
      "execution_count": null,
      "outputs": [
        {
          "output_type": "stream",
          "text": [
            "The accuracy of RandomForestClassifier is: 0.9821366024518389\n"
          ],
          "name": "stdout"
        }
      ]
    },
    {
      "cell_type": "code",
      "metadata": {
        "colab": {
          "base_uri": "https://localhost:8080/",
          "height": 272
        },
        "id": "wRZeEVaI0Bq9",
        "outputId": "74cc0a16-9beb-4642-cb5d-8012faa0bec2"
      },
      "source": [
        "df_cm = pd.DataFrame(rdf_cm, range(2), range(2))\n",
        "# plt.figure(figsize=(10,7))\n",
        "sns.set(font_scale=1.4) # for label size\n",
        "sns.heatmap(df_cm, annot=True, annot_kws={\"size\": 16},fmt=\"d\") # font size\n",
        "\n",
        "plt.show()"
      ],
      "execution_count": null,
      "outputs": [
        {
          "output_type": "display_data",
          "data": {
            "image/png": "[encoded data removed]",
            "text/plain": [
              "<Figure size 432x288 with 2 Axes>"
            ]
          },
          "metadata": {
            "tags": []
          }
        }
      ]
    },
    {
      "cell_type": "markdown",
      "metadata": {
        "id": "5OOFu4Kf2xax"
      },
      "source": [
        "### **KNN**"
      ]
    },
    {
      "cell_type": "code",
      "metadata": {
        "colab": {
          "base_uri": "https://localhost:8080/"
        },
        "id": "eraL1yfK0RNI",
        "outputId": "77501e64-7b7b-4a18-8fb6-760713284b43"
      },
      "source": [
        "from sklearn.neighbors import KNeighborsClassifier\n",
        "\n",
        "knn=KNeighborsClassifier(n_neighbors=3)\n",
        "knn.fit(X_train,y_train)\n",
        "knn_pred=knn.predict(X_test)\n",
        "knn_cm=confusion_matrix(y_test,knn_pred)\n",
        "print(\"The accuracy of KNeighborsClassifier is:\",accuracy_score(knn_pred,y_test))"
      ],
      "execution_count": null,
      "outputs": [
        {
          "output_type": "stream",
          "text": [
            "The accuracy of KNeighborsClassifier is: 0.9824868651488616\n"
          ],
          "name": "stdout"
        }
      ]
    },
    {
      "cell_type": "code",
      "metadata": {
        "colab": {
          "base_uri": "https://localhost:8080/",
          "height": 272
        },
        "id": "Atw7UY9s0aDU",
        "outputId": "3b931e67-1cc0-4207-80f8-4daa0913928d"
      },
      "source": [
        "df_cm = pd.DataFrame(knn_cm, range(2), range(2))\n",
        "# plt.figure(figsize=(10,7))\n",
        "sns.set(font_scale=1.4) # for label size\n",
        "sns.heatmap(df_cm, annot=True, annot_kws={\"size\": 16},fmt=\"d\") # font size\n",
        "\n",
        "plt.show()"
      ],
      "execution_count": null,
      "outputs": [
        {
          "output_type": "display_data",
          "data": {
            "image/png": "[encoded data removed]",
            "text/plain": [
              "<Figure size 432x288 with 2 Axes>"
            ]
          },
          "metadata": {
            "tags": []
          }
        }
      ]
    },
    {
      "cell_type": "markdown",
      "metadata": {
        "id": "dKvVd46j2-J0"
      },
      "source": [
        "### **DECISION TREE**"
      ]
    },
    {
      "cell_type": "code",
      "metadata": {
        "colab": {
          "base_uri": "https://localhost:8080/",
          "height": 398
        },
        "id": "unLMj-C44Ufo",
        "outputId": "f3ff3616-b6d7-4427-c5bc-cf28320439aa"
      },
      "source": [
        "\n",
        "#Decision Tree\n",
        "tree_model = DecisionTreeClassifier()\n",
        "tree_model.fit(X_train, y_train)\n",
        "tree_yhat = tree_model.predict(X_test)\n",
        "print('Accuracy score of the Decision Tree model is {}'.format(accuracy_score(y_test, tree_yhat)))\n",
        "tree_matrix = confusion_matrix(y_test, tree_yhat, labels = [0, 1]) # Decision Tree\n",
        "plt.rcParams['figure.figsize'] = (6, 6)\n",
        "#figure\n",
        "df_cm = pd.DataFrame(tree_matrix, range(2), range(2))\n",
        "# plt.figure(figsize=(10,7))\n",
        "sns.set(font_scale=1.4) # for label size\n",
        "sns.heatmap(df_cm, annot=True, annot_kws={\"size\": 16},fmt=\"d\") # font size\n",
        "\n",
        "plt.show()\n"
      ],
      "execution_count": null,
      "outputs": [
        {
          "output_type": "stream",
          "text": [
            "Accuracy score of the Decision Tree model is 0.9828371278458844\n"
          ],
          "name": "stdout"
        },
        {
          "output_type": "display_data",
          "data": {
            "image/png": "[encoded data removed]",
            "text/plain": [
              "<Figure size 432x432 with 2 Axes>"
            ]
          },
          "metadata": {
            "tags": []
          }
        }
      ]
    },
    {
      "cell_type": "code",
      "metadata": {
        "colab": {
          "base_uri": "https://localhost:8080/",
          "height": 398
        },
        "id": "v0po16UFwYaK",
        "outputId": "e35976c5-61b2-4cf8-9294-7b464778f5f2"
      },
      "source": [
        "from sklearn.svm import SVC # SVM algorithm\n",
        "#SVM \n",
        "svm = SVC()\n",
        "svm.fit(X_train, y_train)\n",
        "svm_yhat = svm.predict(X_test)\n",
        "print('Accuracy score of the SVM model is {}'.format(accuracy_score(y_test, svm_yhat)))\n",
        "svm_matrix = confusion_matrix(y_test, svm_yhat, labels = [0, 1]) # Support Vector Machine\n",
        "plt.rcParams['figure.figsize'] = (6, 6)\n",
        "df_cm = pd.DataFrame(svm_matrix, range(2), range(2))\n",
        "# plt.figure(figsize=(10,7))\n",
        "sns.set(font_scale=1.4) # for label size\n",
        "sns.heatmap(df_cm, annot=True, annot_kws={\"size\": 16},fmt=\"d\") # font size\n",
        "\n",
        "plt.show()"
      ],
      "execution_count": null,
      "outputs": [
        {
          "output_type": "stream",
          "text": [
            "Accuracy score of the SVM model is 0.9831873905429072\n"
          ],
          "name": "stdout"
        },
        {
          "output_type": "display_data",
          "data": {
            "image/png": "[encoded data removed]",
            "text/plain": [
              "<Figure size 432x432 with 2 Axes>"
            ]
          },
          "metadata": {
            "tags": []
          }
        }
      ]
    },
    {
      "cell_type": "markdown",
      "metadata": {
        "id": "xiXmxuCiFibE"
      },
      "source": [
        "Above used algorithms are\n",
        "\n",
        "\n",
        "1.  The accuracy of naives bayes is: 0.957968476357268\n",
        "2.  The accuracy of KNeighborsClassifier is: 0.978984238178634\n",
        "3.   Accuracy score of the SVM model is 0.9810858143607706\n",
        "4.   Accuracy score of the Decision Tree model is 0.9810858143607706\n",
        "5.  The accuracy of RandomForestClassifier is: 0.9796847635726795\n",
        "6.   The accuracy of  LogisticRegression is: 0.9810858143607706\n",
        "\n",
        "\n",
        "\n",
        "\n",
        "\n",
        "\n",
        "\n",
        "\n",
        "\n",
        "\n",
        "\n",
        "\n",
        "\n"
      ]
    },
    {
      "cell_type": "markdown",
      "metadata": {
        "id": "jSUdmhFBhXuN"
      },
      "source": [
        "SVM SHOWED THE BEST RESULTS"
      ]
    }
  ]
}